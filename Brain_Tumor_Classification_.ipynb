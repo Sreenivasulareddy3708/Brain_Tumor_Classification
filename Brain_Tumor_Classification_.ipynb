{
  "cells": [
    {
      "cell_type": "markdown",
      "metadata": {
        "id": "view-in-github",
        "colab_type": "text"
      },
      "source": [
        "<a href=\"https://colab.research.google.com/github/Sreenivasulareddy3708/Brain_Tumor_Classification/blob/main/Brain_Tumor_Classification_.ipynb\" target=\"_parent\"><img src=\"https://colab.research.google.com/assets/colab-badge.svg\" alt=\"Open In Colab\"/></a>"
      ]
    },
    {
      "cell_type": "code",
      "execution_count": null,
      "metadata": {
        "id": "p5Dl63C9yu1X"
      },
      "outputs": [],
      "source": [
        "pip install tensorflow"
      ]
    },
    {
      "cell_type": "code",
      "execution_count": 1,
      "metadata": {
        "colab": {
          "base_uri": "https://localhost:8080/"
        },
        "id": "rRbuM_-6Bs1j",
        "outputId": "9f732a9e-e9e6-4cca-f92f-45eb20c53139"
      },
      "outputs": [
        {
          "output_type": "stream",
          "name": "stdout",
          "text": [
            "Mounted at /content/gdrive\n"
          ]
        }
      ],
      "source": [
        "from google.colab import drive\n",
        "drive.mount('/content/gdrive')\n"
      ]
    },
    {
      "cell_type": "code",
      "execution_count": 2,
      "metadata": {
        "id": "zQCXIDoYba1N"
      },
      "outputs": [],
      "source": [
        "import keras\n",
        "from keras.models import Sequential\n",
        "from keras.layers import Conv2D,Flatten,Dense,MaxPooling2D,Dropout"
      ]
    },
    {
      "cell_type": "code",
      "execution_count": 3,
      "metadata": {
        "id": "dE4oP4skWHMY"
      },
      "outputs": [],
      "source": [
        "import ipywidgets as widgets\n",
        "import io\n",
        "from PIL import Image\n",
        "import tqdm\n",
        "from sklearn.model_selection import train_test_split\n",
        "import cv2\n",
        "from sklearn.utils import shuffle\n",
        "import tensorflow as tf\n",
        "import numpy as np\n",
        "import pandas as pd"
      ]
    },
    {
      "cell_type": "code",
      "execution_count": 4,
      "metadata": {
        "id": "vRslE-ZJbf-F"
      },
      "outputs": [],
      "source": [
        "import os\n",
        "X_train = []\n",
        "Y_train = []\n",
        "image_size = 150\n",
        "labels = ['glioma_tumor','meningioma_tumor','no_tumor','pituitary_tumor']\n",
        "for i in labels:\n",
        "    folderPath = os.path.join('/content/gdrive/MyDrive/MRI/Brain Tumor Classification (MRI)/Training',i)\n",
        "    for j in os.listdir(folderPath):\n",
        "        img = cv2.imread(os.path.join(folderPath,j))\n",
        "        img = cv2.resize(img,(image_size,image_size))\n",
        "        X_train.append(img)\n",
        "        Y_train.append(i)\n",
        "for i in labels:\n",
        "    folderPath = os.path.join('/content/gdrive/MyDrive/MRI/Brain Tumor Classification (MRI)/Training',i)\n",
        "    for j in os.listdir(folderPath):\n",
        "        img = cv2.imread(os.path.join(folderPath,j))\n",
        "        img = cv2.resize(img,(image_size,image_size))\n",
        "        X_train.append(img)\n",
        "        Y_train.append(i)\n",
        "\n",
        "X_train = np.array(X_train)\n",
        "Y_train = np.array(Y_train)"
      ]
    },
    {
      "cell_type": "code",
      "execution_count": 5,
      "metadata": {
        "colab": {
          "base_uri": "https://localhost:8080/"
        },
        "id": "6QFAXCsocS69",
        "outputId": "af9f4277-963e-4164-a060-2fcef389b333"
      },
      "outputs": [
        {
          "output_type": "execute_result",
          "data": {
            "text/plain": [
              "(5740, 150, 150, 3)"
            ]
          },
          "metadata": {},
          "execution_count": 5
        }
      ],
      "source": [
        "X_train,Y_train = shuffle(X_train,Y_train,random_state=101)\n",
        "X_train.shape"
      ]
    },
    {
      "cell_type": "code",
      "execution_count": 6,
      "metadata": {
        "id": "EAYPtIgvcZvq"
      },
      "outputs": [],
      "source": [
        "X_train,X_test,y_train,y_test = train_test_split(X_train,Y_train,test_size=0.1,random_state=101)"
      ]
    },
    {
      "cell_type": "code",
      "execution_count": 7,
      "metadata": {
        "id": "sX3X0pRocZyb"
      },
      "outputs": [],
      "source": [
        "y_train_new = []\n",
        "for i in y_train:\n",
        "    y_train_new.append(labels.index(i))\n",
        "y_train=y_train_new\n",
        "y_train = tf.keras.utils.to_categorical(y_train)\n",
        "\n",
        "y_test_new = []\n",
        "for i in y_test:\n",
        "    y_test_new.append(labels.index(i))\n",
        "y_test=y_test_new\n",
        "y_test = tf.keras.utils.to_categorical(y_test)"
      ]
    },
    {
      "cell_type": "code",
      "execution_count": 8,
      "metadata": {
        "id": "E087P1g0cZ15"
      },
      "outputs": [],
      "source": [
        "model = Sequential()\n",
        "model.add(Conv2D(32,(3,3),activation = 'relu',input_shape=(150,150,3)))\n",
        "model.add(Conv2D(64,(3,3),activation='relu'))\n",
        "model.add(MaxPooling2D(2,2))\n",
        "model.add(Dropout(0.3))\n",
        "model.add(Conv2D(64,(3,3),activation='relu'))\n",
        "model.add(Conv2D(64,(3,3),activation='relu'))\n",
        "model.add(Dropout(0.3))\n",
        "model.add(MaxPooling2D(2,2))\n",
        "model.add(Dropout(0.3))\n",
        "model.add(Conv2D(128,(3,3),activation='relu'))\n",
        "model.add(Conv2D(128,(3,3),activation='relu'))\n",
        "model.add(Conv2D(128,(3,3),activation='relu'))\n",
        "model.add(MaxPooling2D(2,2))\n",
        "model.add(Dropout(0.3))\n",
        "model.add(Conv2D(128,(3,3),activation='relu'))\n",
        "model.add(Conv2D(256,(3,3),activation='relu'))\n",
        "model.add(MaxPooling2D(2,2))\n",
        "model.add(Dropout(0.3))\n",
        "model.add(Flatten())\n",
        "model.add(Dense(512,activation = 'relu'))\n",
        "model.add(Dense(512,activation = 'relu'))\n",
        "model.add(Dropout(0.3))\n",
        "model.add(Dense(4,activation='softmax'))"
      ]
    },
    {
      "cell_type": "code",
      "execution_count": 9,
      "metadata": {
        "colab": {
          "base_uri": "https://localhost:8080/"
        },
        "id": "e6tBdA1CkSe4",
        "outputId": "b3d7f50c-df50-4525-9a34-a697806ef9b9"
      },
      "outputs": [
        {
          "output_type": "stream",
          "name": "stdout",
          "text": [
            "Model: \"sequential\"\n",
            "_________________________________________________________________\n",
            " Layer (type)                Output Shape              Param #   \n",
            "=================================================================\n",
            " conv2d (Conv2D)             (None, 148, 148, 32)      896       \n",
            "                                                                 \n",
            " conv2d_1 (Conv2D)           (None, 146, 146, 64)      18496     \n",
            "                                                                 \n",
            " max_pooling2d (MaxPooling2D  (None, 73, 73, 64)       0         \n",
            " )                                                               \n",
            "                                                                 \n",
            " dropout (Dropout)           (None, 73, 73, 64)        0         \n",
            "                                                                 \n",
            " conv2d_2 (Conv2D)           (None, 71, 71, 64)        36928     \n",
            "                                                                 \n",
            " conv2d_3 (Conv2D)           (None, 69, 69, 64)        36928     \n",
            "                                                                 \n",
            " dropout_1 (Dropout)         (None, 69, 69, 64)        0         \n",
            "                                                                 \n",
            " max_pooling2d_1 (MaxPooling  (None, 34, 34, 64)       0         \n",
            " 2D)                                                             \n",
            "                                                                 \n",
            " dropout_2 (Dropout)         (None, 34, 34, 64)        0         \n",
            "                                                                 \n",
            " conv2d_4 (Conv2D)           (None, 32, 32, 128)       73856     \n",
            "                                                                 \n",
            " conv2d_5 (Conv2D)           (None, 30, 30, 128)       147584    \n",
            "                                                                 \n",
            " conv2d_6 (Conv2D)           (None, 28, 28, 128)       147584    \n",
            "                                                                 \n",
            " max_pooling2d_2 (MaxPooling  (None, 14, 14, 128)      0         \n",
            " 2D)                                                             \n",
            "                                                                 \n",
            " dropout_3 (Dropout)         (None, 14, 14, 128)       0         \n",
            "                                                                 \n",
            " conv2d_7 (Conv2D)           (None, 12, 12, 128)       147584    \n",
            "                                                                 \n",
            " conv2d_8 (Conv2D)           (None, 10, 10, 256)       295168    \n",
            "                                                                 \n",
            " max_pooling2d_3 (MaxPooling  (None, 5, 5, 256)        0         \n",
            " 2D)                                                             \n",
            "                                                                 \n",
            " dropout_4 (Dropout)         (None, 5, 5, 256)         0         \n",
            "                                                                 \n",
            " flatten (Flatten)           (None, 6400)              0         \n",
            "                                                                 \n",
            " dense (Dense)               (None, 512)               3277312   \n",
            "                                                                 \n",
            " dense_1 (Dense)             (None, 512)               262656    \n",
            "                                                                 \n",
            " dropout_5 (Dropout)         (None, 512)               0         \n",
            "                                                                 \n",
            " dense_2 (Dense)             (None, 4)                 2052      \n",
            "                                                                 \n",
            "=================================================================\n",
            "Total params: 4,447,044\n",
            "Trainable params: 4,447,044\n",
            "Non-trainable params: 0\n",
            "_________________________________________________________________\n"
          ]
        }
      ],
      "source": [
        "model.summary()"
      ]
    },
    {
      "cell_type": "code",
      "execution_count": 10,
      "metadata": {
        "id": "08ga3keYkSpQ"
      },
      "outputs": [],
      "source": [
        "model.compile(loss='categorical_crossentropy',optimizer='Adam',metrics=['accuracy'])\n"
      ]
    },
    {
      "cell_type": "code",
      "execution_count": 11,
      "metadata": {
        "colab": {
          "base_uri": "https://localhost:8080/"
        },
        "id": "58lg6bxXkS1B",
        "outputId": "fe0d201a-c426-465e-8820-a25b6fde1445"
      },
      "outputs": [
        {
          "output_type": "stream",
          "name": "stdout",
          "text": [
            "Epoch 1/20\n",
            "146/146 [==============================] - 34s 109ms/step - loss: 1.5482 - accuracy: 0.3489 - val_loss: 1.0620 - val_accuracy: 0.5068\n",
            "Epoch 2/20\n",
            "146/146 [==============================] - 14s 96ms/step - loss: 0.9081 - accuracy: 0.5965 - val_loss: 0.9847 - val_accuracy: 0.5532\n",
            "Epoch 3/20\n",
            "146/146 [==============================] - 14s 97ms/step - loss: 0.6904 - accuracy: 0.6980 - val_loss: 1.0216 - val_accuracy: 0.5590\n",
            "Epoch 4/20\n",
            "146/146 [==============================] - 14s 96ms/step - loss: 0.5728 - accuracy: 0.7559 - val_loss: 0.7749 - val_accuracy: 0.6460\n",
            "Epoch 5/20\n",
            "146/146 [==============================] - 14s 98ms/step - loss: 0.4875 - accuracy: 0.7851 - val_loss: 0.7719 - val_accuracy: 0.6344\n",
            "Epoch 6/20\n",
            "146/146 [==============================] - 14s 99ms/step - loss: 0.4292 - accuracy: 0.8238 - val_loss: 0.5776 - val_accuracy: 0.7505\n",
            "Epoch 7/20\n",
            "146/146 [==============================] - 14s 98ms/step - loss: 0.3519 - accuracy: 0.8557 - val_loss: 0.5395 - val_accuracy: 0.7621\n",
            "Epoch 8/20\n",
            "146/146 [==============================] - 15s 101ms/step - loss: 0.3131 - accuracy: 0.8793 - val_loss: 0.9439 - val_accuracy: 0.6538\n",
            "Epoch 9/20\n",
            "146/146 [==============================] - 15s 101ms/step - loss: 0.2628 - accuracy: 0.8989 - val_loss: 0.4959 - val_accuracy: 0.7795\n",
            "Epoch 10/20\n",
            "146/146 [==============================] - 15s 101ms/step - loss: 0.2071 - accuracy: 0.9262 - val_loss: 0.4464 - val_accuracy: 0.8182\n",
            "Epoch 11/20\n",
            "146/146 [==============================] - 15s 103ms/step - loss: 0.1967 - accuracy: 0.9286 - val_loss: 0.6669 - val_accuracy: 0.7273\n",
            "Epoch 12/20\n",
            "146/146 [==============================] - 15s 101ms/step - loss: 0.1850 - accuracy: 0.9320 - val_loss: 0.1732 - val_accuracy: 0.9478\n",
            "Epoch 13/20\n",
            "146/146 [==============================] - 15s 101ms/step - loss: 0.1260 - accuracy: 0.9538 - val_loss: 0.4749 - val_accuracy: 0.8046\n",
            "Epoch 14/20\n",
            "146/146 [==============================] - 14s 99ms/step - loss: 0.1382 - accuracy: 0.9527 - val_loss: 0.3416 - val_accuracy: 0.8665\n",
            "Epoch 15/20\n",
            "146/146 [==============================] - 14s 99ms/step - loss: 0.1239 - accuracy: 0.9561 - val_loss: 0.2966 - val_accuracy: 0.8743\n",
            "Epoch 16/20\n",
            "146/146 [==============================] - 15s 100ms/step - loss: 0.1001 - accuracy: 0.9645 - val_loss: 0.3501 - val_accuracy: 0.8569\n",
            "Epoch 17/20\n",
            "146/146 [==============================] - 14s 98ms/step - loss: 0.1064 - accuracy: 0.9626 - val_loss: 0.5524 - val_accuracy: 0.7718\n",
            "Epoch 18/20\n",
            "146/146 [==============================] - 15s 100ms/step - loss: 0.0885 - accuracy: 0.9669 - val_loss: 0.4573 - val_accuracy: 0.8162\n",
            "Epoch 19/20\n",
            "146/146 [==============================] - 15s 100ms/step - loss: 0.0917 - accuracy: 0.9669 - val_loss: 0.1103 - val_accuracy: 0.9671\n",
            "Epoch 20/20\n",
            "146/146 [==============================] - 15s 101ms/step - loss: 0.0736 - accuracy: 0.9776 - val_loss: 0.2062 - val_accuracy: 0.9284\n"
          ]
        },
        {
          "output_type": "execute_result",
          "data": {
            "text/plain": [
              "<keras.callbacks.History at 0x7a2ae52fa1a0>"
            ]
          },
          "metadata": {},
          "execution_count": 11
        }
      ],
      "source": [
        "model.fit(X_train,y_train,epochs=20,validation_split=0.1)"
      ]
    },
    {
      "cell_type": "code",
      "execution_count": 12,
      "metadata": {
        "id": "t6JEJjQPpVM0"
      },
      "outputs": [],
      "source": [
        "img = cv2.imread('/content/gdrive/MyDrive/MRI/Brain Tumor Classification (MRI)/Training/meningioma_tumor/m (119).jpg')\n",
        "img = cv2.resize(img,(150,150))\n",
        "img_array = np.array(img)\n",
        "img_array=img_array.reshape(1,150,150,3)"
      ]
    },
    {
      "cell_type": "code",
      "execution_count": 13,
      "metadata": {
        "colab": {
          "base_uri": "https://localhost:8080/"
        },
        "id": "HXvwE4NekbYm",
        "outputId": "55f67c3b-72d7-4d31-ab17-e3bc8020d94d"
      },
      "outputs": [
        {
          "output_type": "stream",
          "name": "stdout",
          "text": [
            "1/1 [==============================] - 1s 576ms/step\n"
          ]
        },
        {
          "output_type": "execute_result",
          "data": {
            "text/plain": [
              "1"
            ]
          },
          "metadata": {},
          "execution_count": 13
        }
      ],
      "source": [
        "a=model.predict(img_array)\n",
        "indices = a.argmax()\n",
        "indices"
      ]
    },
    {
      "cell_type": "code",
      "execution_count": 14,
      "metadata": {
        "id": "E7fQfIGMsnM3"
      },
      "outputs": [],
      "source": [
        "model.save(\"model.h5\")"
      ]
    },
    {
      "cell_type": "code",
      "execution_count": 15,
      "metadata": {
        "id": "0_TUU-iusnYl"
      },
      "outputs": [],
      "source": [
        "saved_model=keras.models.load_model(\"model.h5\")"
      ]
    },
    {
      "cell_type": "code",
      "execution_count": 16,
      "metadata": {
        "colab": {
          "base_uri": "https://localhost:8080/"
        },
        "id": "rGG6BCersvAo",
        "outputId": "d079459d-2be8-4077-c55e-9984193611bf"
      },
      "outputs": [
        {
          "output_type": "stream",
          "name": "stdout",
          "text": [
            "1/1 [==============================] - 0s 245ms/step\n"
          ]
        },
        {
          "output_type": "execute_result",
          "data": {
            "text/plain": [
              "1"
            ]
          },
          "metadata": {},
          "execution_count": 16
        }
      ],
      "source": [
        "a=saved_model.predict(img_array)\n",
        "index = a.argmax()\n",
        "index"
      ]
    },
    {
      "cell_type": "code",
      "execution_count": 17,
      "metadata": {
        "colab": {
          "base_uri": "https://localhost:8080/"
        },
        "id": "XmvC487TsvM7",
        "outputId": "9141cd10-ea87-4854-ab79-3b79589c3f54"
      },
      "outputs": [
        {
          "output_type": "stream",
          "name": "stdout",
          "text": [
            "Meningioma_tumor\n"
          ]
        }
      ],
      "source": [
        "if index==0:\n",
        "  print(\"Glioma_tumor\")\n",
        "elif index==1:\n",
        "  print(\"Meningioma_tumor\")\n",
        "elif index==2:\n",
        "  print(\"No Tumor\")\n",
        "elif index==3:\n",
        "  print(\"Pituitary_tumor\")"
      ]
    },
    {
      "cell_type": "code",
      "execution_count": null,
      "metadata": {
        "id": "o-lwBUMosvQZ"
      },
      "outputs": [],
      "source": []
    }
  ],
  "metadata": {
    "accelerator": "GPU",
    "colab": {
      "toc_visible": true,
      "provenance": [],
      "authorship_tag": "ABX9TyOcCcER4NA5sPiOw1bmWWdG",
      "include_colab_link": true
    },
    "gpuClass": "standard",
    "kernelspec": {
      "display_name": "Python 3",
      "name": "python3"
    },
    "language_info": {
      "name": "python"
    }
  },
  "nbformat": 4,
  "nbformat_minor": 0
}